{
 "cells": [
  {
   "cell_type": "code",
   "execution_count": 2,
   "metadata": {},
   "outputs": [],
   "source": [
    "import pickle\n",
    "from dataclasses import dataclass\n",
    "from math import inf\n",
    "from typing import List, Dict\n",
    "import time\n",
    "@dataclass\n",
    "class Payload:\n",
    "    target: List[List[float]]\n",
    "    candidates: List[str]\n",
    "\n",
    "@dataclass(eq=True, frozen=True)\n",
    "class TrajectoryPoint:\n",
    "    id: str = \"\"\n",
    "    t: float = time.time()\n",
    "    lng: float = inf\n",
    "    lat: float = inf\n",
    "\n",
    "\n",
    "@dataclass(eq=True, frozen=True)\n",
    "class TrajectorySegment:\n",
    "    id: str = \"\"\n",
    "    start: TrajectoryPoint = None\n",
    "    end: TrajectoryPoint = None\n"
   ]
  },
  {
   "cell_type": "code",
   "execution_count": 3,
   "metadata": {},
   "outputs": [],
   "source": [
    "with open(\"msg.pkl\",'rb') as f:\n",
    "    msg = pickle.load(f)\n",
    "with open(\"candidate_trajectories.pkl\",'rb') as f:\n",
    "    candidate_trajectories = pickle.load(f)"
   ]
  },
  {
   "cell_type": "code",
   "execution_count": 16,
   "metadata": {},
   "outputs": [
    {
     "name": "stdout",
     "output_type": "stream",
     "text": [
      "raw candidates ['3', '2']\n",
      "init bucket {'3': [], '2': []}\n"
     ]
    },
    {
     "data": {
      "text/plain": [
       "'3'"
      ]
     },
     "execution_count": 16,
     "metadata": {},
     "output_type": "execute_result"
    }
   ],
   "source": [
    "from dacite import from_dict\n",
    "import numpy as np\n",
    "bucket:Dict[str,List[List[float]]] = dict()\n",
    "for candidates in msg.candidates:\n",
    "    bucket[candidates] = list()\n",
    "print(\"raw candidates\",msg.candidates,flush=True)\n",
    "print(\"init bucket\",bucket,flush=True)\n",
    "# make trajectory\n",
    "for p in candidate_trajectories:\n",
    "    point = from_dict(TrajectoryPoint, p.json())\n",
    "    key = point.id\n",
    "    temp = bucket.get(point.id,[])\n",
    "    temp.append([point.lng, point.lat])\n",
    "    bucket[key]=temp\n",
    "# [np.array(v) for _,v in bucket.items()]\n",
    "list(bucket.keys())[0]"
   ]
  }
 ],
 "metadata": {
  "interpreter": {
   "hash": "cd9b2a7e2cc50accef4e7f578b1880be13d8542cb129c54b8696b7c799b8ad7b"
  },
  "kernelspec": {
   "display_name": "Python 3.10.4 ('venv': venv)",
   "language": "python",
   "name": "python3"
  },
  "language_info": {
   "codemirror_mode": {
    "name": "ipython",
    "version": 3
   },
   "file_extension": ".py",
   "mimetype": "text/x-python",
   "name": "python",
   "nbconvert_exporter": "python",
   "pygments_lexer": "ipython3",
   "version": "3.10.4"
  },
  "orig_nbformat": 4
 },
 "nbformat": 4,
 "nbformat_minor": 2
}
